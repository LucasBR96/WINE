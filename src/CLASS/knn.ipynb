{
 "cells": [
  {
   "cell_type": "code",
   "execution_count": 1,
   "metadata": {},
   "outputs": [
    {
     "name": "stdout",
     "output_type": "stream",
     "text": [
      "  n_neigh    weight\n",
      "0      25   uniform\n",
      "1      25  distance\n",
      "2      50   uniform\n",
      "3      50  distance\n",
      "4     100   uniform\n",
      "5     100  distance\n",
      "6     200   uniform\n",
      "7     200  distance\n",
      "8     250   uniform\n",
      "9     250  distance\n"
     ]
    }
   ],
   "source": [
    "import os\n",
    "os.chdir( \"/home/lucasfuzato/CODING/WINE\" )\n",
    "\n",
    "import pandas as pd\n",
    "import matplotlib.pyplot as plt\n",
    "import numpy as np\n",
    "from itertools import product\n",
    "\n",
    "from src.aux_fun import *\n",
    "\n",
    "tests_df = pd.DataFrame( columns = [ \"n_neigh\" , \"weight\" ] )\n",
    "\n",
    "num_neigh = [ 25 , 50 , 100 , 200 , 250 ]\n",
    "using = [ \"uniform\" , \"distance\" ]\n",
    "for i , ( n_neigh , smote ) in enumerate( product( num_neigh , using ) ):\n",
    "    tests_df.loc[ i ] = pd.Series( [ n_neigh , smote ] , [ \"n_neigh\" , \"weight\" ] )\n",
    "\n",
    "print( tests_df )"
   ]
  },
  {
   "cell_type": "code",
   "execution_count": 2,
   "metadata": {},
   "outputs": [
    {
     "name": "stdout",
     "output_type": "stream",
     "text": [
      "   f1_score           precision              recall          \n",
      "       mean       std      mean       std      mean       std\n",
      "0  0.572814  0.057950  0.632705  0.061526  0.393141  0.052587\n",
      "1  0.729851  0.042825  0.774744  0.049614  0.595171  0.039268\n",
      "2  0.571272  0.060649  0.651804  0.070158  0.329675  0.043281\n",
      "3  0.741492  0.044511  0.798874  0.054798  0.569347  0.030835\n",
      "4  0.546984  0.054622  0.645282  0.065519  0.252092  0.032303\n",
      "5  0.765831  0.033066  0.839957  0.042185  0.543455  0.021633\n",
      "6  0.537112  0.073897  0.655079  0.091961  0.183212  0.026227\n",
      "7  0.775469  0.027931  0.868718  0.036795  0.495725  0.023021\n",
      "8  0.537741  0.064219  0.658788  0.079145  0.174600  0.021618\n",
      "9  0.775296  0.026311  0.872396  0.036663  0.483994  0.019890\n"
     ]
    },
    {
     "ename": "AttributeError",
     "evalue": "Can only use .str accessor with string values!",
     "output_type": "error",
     "traceback": [
      "\u001b[0;31m---------------------------------------------------------------------------\u001b[0m",
      "\u001b[0;31mAttributeError\u001b[0m                            Traceback (most recent call last)",
      "Cell \u001b[0;32mIn[2], line 37\u001b[0m\n\u001b[1;32m     34\u001b[0m df \u001b[38;5;241m=\u001b[39m pd\u001b[38;5;241m.\u001b[39mDataFrame( data )\n\u001b[1;32m     35\u001b[0m \u001b[38;5;28mprint\u001b[39m( df )\n\u001b[0;32m---> 37\u001b[0m \u001b[43mresults_to_csv\u001b[49m\u001b[43m(\u001b[49m\u001b[43m \u001b[49m\u001b[43mdf\u001b[49m\u001b[43m \u001b[49m\u001b[43m,\u001b[49m\u001b[43m \u001b[49m\u001b[38;5;124;43m\"\u001b[39;49m\u001b[38;5;124;43mknn_results.csv\u001b[39;49m\u001b[38;5;124;43m\"\u001b[39;49m\u001b[43m)\u001b[49m\n",
      "File \u001b[0;32m~/CODING/WINE/src/aux_fun.py:144\u001b[0m, in \u001b[0;36mresults_to_csv\u001b[0;34m(data, path)\u001b[0m\n\u001b[1;32m    <a href='file:///home/lucasfuzato/CODING/WINE/src/aux_fun.py?line=141'>142</a>\u001b[0m columns \u001b[39m=\u001b[39m data\u001b[39m.\u001b[39mcolumns\n\u001b[1;32m    <a href='file:///home/lucasfuzato/CODING/WINE/src/aux_fun.py?line=142'>143</a>\u001b[0m \u001b[39mfor\u001b[39;00m attr \u001b[39min\u001b[39;00m columns:\n\u001b[0;32m--> <a href='file:///home/lucasfuzato/CODING/WINE/src/aux_fun.py?line=143'>144</a>\u001b[0m     data[attr] \u001b[39m=\u001b[39m data[attr]\u001b[39m.\u001b[39;49mstr\u001b[39m.\u001b[39mreplace(\u001b[39m'\u001b[39m\u001b[39m.\u001b[39m\u001b[39m'\u001b[39m, \u001b[39m'\u001b[39m\u001b[39m,\u001b[39m\u001b[39m'\u001b[39m)\u001b[39m.\u001b[39mastype(\u001b[39mfloat\u001b[39m)\n\u001b[1;32m    <a href='file:///home/lucasfuzato/CODING/WINE/src/aux_fun.py?line=144'>145</a>\u001b[0m data\u001b[39m.\u001b[39mto_csv( path , sep \u001b[39m=\u001b[39m \u001b[39m\"\u001b[39m\u001b[39m;\u001b[39m\u001b[39m\"\u001b[39m )\n",
      "File \u001b[0;32m~/.local/lib/python3.10/site-packages/pandas/core/generic.py:5989\u001b[0m, in \u001b[0;36mNDFrame.__getattr__\u001b[0;34m(self, name)\u001b[0m\n\u001b[1;32m   <a href='file:///home/lucasfuzato/.local/lib/python3.10/site-packages/pandas/core/generic.py?line=5981'>5982</a>\u001b[0m \u001b[39mif\u001b[39;00m (\n\u001b[1;32m   <a href='file:///home/lucasfuzato/.local/lib/python3.10/site-packages/pandas/core/generic.py?line=5982'>5983</a>\u001b[0m     name \u001b[39mnot\u001b[39;00m \u001b[39min\u001b[39;00m \u001b[39mself\u001b[39m\u001b[39m.\u001b[39m_internal_names_set\n\u001b[1;32m   <a href='file:///home/lucasfuzato/.local/lib/python3.10/site-packages/pandas/core/generic.py?line=5983'>5984</a>\u001b[0m     \u001b[39mand\u001b[39;00m name \u001b[39mnot\u001b[39;00m \u001b[39min\u001b[39;00m \u001b[39mself\u001b[39m\u001b[39m.\u001b[39m_metadata\n\u001b[1;32m   <a href='file:///home/lucasfuzato/.local/lib/python3.10/site-packages/pandas/core/generic.py?line=5984'>5985</a>\u001b[0m     \u001b[39mand\u001b[39;00m name \u001b[39mnot\u001b[39;00m \u001b[39min\u001b[39;00m \u001b[39mself\u001b[39m\u001b[39m.\u001b[39m_accessors\n\u001b[1;32m   <a href='file:///home/lucasfuzato/.local/lib/python3.10/site-packages/pandas/core/generic.py?line=5985'>5986</a>\u001b[0m     \u001b[39mand\u001b[39;00m \u001b[39mself\u001b[39m\u001b[39m.\u001b[39m_info_axis\u001b[39m.\u001b[39m_can_hold_identifiers_and_holds_name(name)\n\u001b[1;32m   <a href='file:///home/lucasfuzato/.local/lib/python3.10/site-packages/pandas/core/generic.py?line=5986'>5987</a>\u001b[0m ):\n\u001b[1;32m   <a href='file:///home/lucasfuzato/.local/lib/python3.10/site-packages/pandas/core/generic.py?line=5987'>5988</a>\u001b[0m     \u001b[39mreturn\u001b[39;00m \u001b[39mself\u001b[39m[name]\n\u001b[0;32m-> <a href='file:///home/lucasfuzato/.local/lib/python3.10/site-packages/pandas/core/generic.py?line=5988'>5989</a>\u001b[0m \u001b[39mreturn\u001b[39;00m \u001b[39mobject\u001b[39;49m\u001b[39m.\u001b[39;49m\u001b[39m__getattribute__\u001b[39;49m(\u001b[39mself\u001b[39;49m, name)\n",
      "File \u001b[0;32m~/.local/lib/python3.10/site-packages/pandas/core/accessor.py:224\u001b[0m, in \u001b[0;36mCachedAccessor.__get__\u001b[0;34m(self, obj, cls)\u001b[0m\n\u001b[1;32m    <a href='file:///home/lucasfuzato/.local/lib/python3.10/site-packages/pandas/core/accessor.py?line=220'>221</a>\u001b[0m \u001b[39mif\u001b[39;00m obj \u001b[39mis\u001b[39;00m \u001b[39mNone\u001b[39;00m:\n\u001b[1;32m    <a href='file:///home/lucasfuzato/.local/lib/python3.10/site-packages/pandas/core/accessor.py?line=221'>222</a>\u001b[0m     \u001b[39m# we're accessing the attribute of the class, i.e., Dataset.geo\u001b[39;00m\n\u001b[1;32m    <a href='file:///home/lucasfuzato/.local/lib/python3.10/site-packages/pandas/core/accessor.py?line=222'>223</a>\u001b[0m     \u001b[39mreturn\u001b[39;00m \u001b[39mself\u001b[39m\u001b[39m.\u001b[39m_accessor\n\u001b[0;32m--> <a href='file:///home/lucasfuzato/.local/lib/python3.10/site-packages/pandas/core/accessor.py?line=223'>224</a>\u001b[0m accessor_obj \u001b[39m=\u001b[39m \u001b[39mself\u001b[39;49m\u001b[39m.\u001b[39;49m_accessor(obj)\n\u001b[1;32m    <a href='file:///home/lucasfuzato/.local/lib/python3.10/site-packages/pandas/core/accessor.py?line=224'>225</a>\u001b[0m \u001b[39m# Replace the property with the accessor object. Inspired by:\u001b[39;00m\n\u001b[1;32m    <a href='file:///home/lucasfuzato/.local/lib/python3.10/site-packages/pandas/core/accessor.py?line=225'>226</a>\u001b[0m \u001b[39m# https://www.pydanny.com/cached-property.html\u001b[39;00m\n\u001b[1;32m    <a href='file:///home/lucasfuzato/.local/lib/python3.10/site-packages/pandas/core/accessor.py?line=226'>227</a>\u001b[0m \u001b[39m# We need to use object.__setattr__ because we overwrite __setattr__ on\u001b[39;00m\n\u001b[1;32m    <a href='file:///home/lucasfuzato/.local/lib/python3.10/site-packages/pandas/core/accessor.py?line=227'>228</a>\u001b[0m \u001b[39m# NDFrame\u001b[39;00m\n\u001b[1;32m    <a href='file:///home/lucasfuzato/.local/lib/python3.10/site-packages/pandas/core/accessor.py?line=228'>229</a>\u001b[0m \u001b[39mobject\u001b[39m\u001b[39m.\u001b[39m\u001b[39m__setattr__\u001b[39m(obj, \u001b[39mself\u001b[39m\u001b[39m.\u001b[39m_name, accessor_obj)\n",
      "File \u001b[0;32m~/.local/lib/python3.10/site-packages/pandas/core/strings/accessor.py:180\u001b[0m, in \u001b[0;36mStringMethods.__init__\u001b[0;34m(self, data)\u001b[0m\n\u001b[1;32m    <a href='file:///home/lucasfuzato/.local/lib/python3.10/site-packages/pandas/core/strings/accessor.py?line=176'>177</a>\u001b[0m \u001b[39mdef\u001b[39;00m \u001b[39m__init__\u001b[39m(\u001b[39mself\u001b[39m, data) \u001b[39m-\u001b[39m\u001b[39m>\u001b[39m \u001b[39mNone\u001b[39;00m:\n\u001b[1;32m    <a href='file:///home/lucasfuzato/.local/lib/python3.10/site-packages/pandas/core/strings/accessor.py?line=177'>178</a>\u001b[0m     \u001b[39mfrom\u001b[39;00m \u001b[39mpandas\u001b[39;00m\u001b[39m.\u001b[39;00m\u001b[39mcore\u001b[39;00m\u001b[39m.\u001b[39;00m\u001b[39marrays\u001b[39;00m\u001b[39m.\u001b[39;00m\u001b[39mstring_\u001b[39;00m \u001b[39mimport\u001b[39;00m StringDtype\n\u001b[0;32m--> <a href='file:///home/lucasfuzato/.local/lib/python3.10/site-packages/pandas/core/strings/accessor.py?line=179'>180</a>\u001b[0m     \u001b[39mself\u001b[39m\u001b[39m.\u001b[39m_inferred_dtype \u001b[39m=\u001b[39m \u001b[39mself\u001b[39;49m\u001b[39m.\u001b[39;49m_validate(data)\n\u001b[1;32m    <a href='file:///home/lucasfuzato/.local/lib/python3.10/site-packages/pandas/core/strings/accessor.py?line=180'>181</a>\u001b[0m     \u001b[39mself\u001b[39m\u001b[39m.\u001b[39m_is_categorical \u001b[39m=\u001b[39m is_categorical_dtype(data\u001b[39m.\u001b[39mdtype)\n\u001b[1;32m    <a href='file:///home/lucasfuzato/.local/lib/python3.10/site-packages/pandas/core/strings/accessor.py?line=181'>182</a>\u001b[0m     \u001b[39mself\u001b[39m\u001b[39m.\u001b[39m_is_string \u001b[39m=\u001b[39m \u001b[39misinstance\u001b[39m(data\u001b[39m.\u001b[39mdtype, StringDtype)\n",
      "File \u001b[0;32m~/.local/lib/python3.10/site-packages/pandas/core/strings/accessor.py:234\u001b[0m, in \u001b[0;36mStringMethods._validate\u001b[0;34m(data)\u001b[0m\n\u001b[1;32m    <a href='file:///home/lucasfuzato/.local/lib/python3.10/site-packages/pandas/core/strings/accessor.py?line=230'>231</a>\u001b[0m inferred_dtype \u001b[39m=\u001b[39m lib\u001b[39m.\u001b[39minfer_dtype(values, skipna\u001b[39m=\u001b[39m\u001b[39mTrue\u001b[39;00m)\n\u001b[1;32m    <a href='file:///home/lucasfuzato/.local/lib/python3.10/site-packages/pandas/core/strings/accessor.py?line=232'>233</a>\u001b[0m \u001b[39mif\u001b[39;00m inferred_dtype \u001b[39mnot\u001b[39;00m \u001b[39min\u001b[39;00m allowed_types:\n\u001b[0;32m--> <a href='file:///home/lucasfuzato/.local/lib/python3.10/site-packages/pandas/core/strings/accessor.py?line=233'>234</a>\u001b[0m     \u001b[39mraise\u001b[39;00m \u001b[39mAttributeError\u001b[39;00m(\u001b[39m\"\u001b[39m\u001b[39mCan only use .str accessor with string values!\u001b[39m\u001b[39m\"\u001b[39m)\n\u001b[1;32m    <a href='file:///home/lucasfuzato/.local/lib/python3.10/site-packages/pandas/core/strings/accessor.py?line=234'>235</a>\u001b[0m \u001b[39mreturn\u001b[39;00m inferred_dtype\n",
      "\u001b[0;31mAttributeError\u001b[0m: Can only use .str accessor with string values!"
     ]
    }
   ],
   "source": [
    "from sklearn.neighbors import KNeighborsClassifier as knn\n",
    "seed_val = 47\n",
    "X , y , X_2d , columns = class_get_data()\n",
    "\n",
    "scores = [ \"f1_score\" , \"precision\" , \"recall\" ]\n",
    "metrics = [ \"mean\" , \"std\" ]\n",
    "data = { tup:list() for tup in product( scores , metrics ) }\n",
    "\n",
    "for simu_id , ( n_neigh , weight ) in enumerate( product( num_neigh , using ) ):\n",
    "\n",
    "    lst = []\n",
    "    fold_iter = get_prepared_data( X , y , seed = seed_val , smote = False )\n",
    "    for ( X_train , y_train ) , ( X_test , y_test ) in fold_iter:\n",
    "\n",
    "        k_class = knn( n_neighbors = n_neigh , weights = weight )\n",
    "        k_class.fit( X_train , y_train )\n",
    "\n",
    "        ts_cls = k_class.predict( X_test )\n",
    "        ts_f1 , prec , recall = bin_f1_score( ts_cls , y_test )\n",
    "\n",
    "        lst.append( ( ts_f1 , prec , recall ) )\n",
    "    \n",
    "    arr = np.array( lst )\n",
    "    means = arr.mean( axis = 0 )\n",
    "    data[ ( \"f1_score\", \"mean\" ) ].append( means[ 0 ] )\n",
    "    data[ ( \"precision\", \"mean\" ) ].append( means[ 1 ] )\n",
    "    data[ ( \"recall\", \"mean\" ) ].append( means[ 2 ] )\n",
    "\n",
    "    stds  = arr.std( axis = 0 )\n",
    "    data[ ( \"f1_score\", \"std\" ) ].append( stds[ 0 ] )\n",
    "    data[ ( \"precision\", \"std\" ) ].append( stds[ 1 ] )\n",
    "    data[ ( \"recall\", \"std\" ) ].append( stds[ 2 ] )\n",
    "\n",
    "df = pd.DataFrame( data )\n",
    "print( df )\n",
    "\n",
    "# results_to_csv( df , \"knn_results.csv\")"
   ]
  },
  {
   "cell_type": "code",
   "execution_count": null,
   "metadata": {},
   "outputs": [],
   "source": [
    "df.to_csv( \"knn_results\" )"
   ]
  }
 ],
 "metadata": {
  "interpreter": {
   "hash": "31f2aee4e71d21fbe5cf8b01ff0e069b9275f58929596ceb00d14d90e3e16cd6"
  },
  "kernelspec": {
   "display_name": "Python 3.10.6 64-bit",
   "language": "python",
   "name": "python3"
  },
  "language_info": {
   "codemirror_mode": {
    "name": "ipython",
    "version": 3
   },
   "file_extension": ".py",
   "mimetype": "text/x-python",
   "name": "python",
   "nbconvert_exporter": "python",
   "pygments_lexer": "ipython3",
   "version": "3.10.6"
  },
  "orig_nbformat": 4
 },
 "nbformat": 4,
 "nbformat_minor": 2
}
