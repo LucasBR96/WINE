{
 "cells": [
  {
   "cell_type": "code",
   "execution_count": 5,
   "metadata": {},
   "outputs": [
    {
     "name": "stdout",
     "output_type": "stream",
     "text": [
      "  n_neigh    weight\n",
      "0      25   uniform\n",
      "1      25  distance\n",
      "2      50   uniform\n",
      "3      50  distance\n",
      "4     100   uniform\n",
      "5     100  distance\n",
      "6     200   uniform\n",
      "7     200  distance\n",
      "8     250   uniform\n",
      "9     250  distance\n"
     ]
    }
   ],
   "source": [
    "import os\n",
    "os.chdir( \"/home/lucasfuzato/CODING/WINE\" )\n",
    "\n",
    "import pandas as pd\n",
    "import matplotlib.pyplot as plt\n",
    "import numpy as np\n",
    "from itertools import product\n",
    "\n",
    "from src.aux_fun import *\n",
    "\n",
    "tests_df = pd.DataFrame( columns = [ \"n_neigh\" , \"weight\" ] )\n",
    "\n",
    "num_neigh = [ 25 , 50 , 100 , 200 , 250 ]\n",
    "using = [ \"uniform\" , \"distance\" ]\n",
    "for i , ( n_neigh , smote ) in enumerate( product( num_neigh , using ) ):\n",
    "    tests_df.loc[ i ] = pd.Series( [ n_neigh , smote ] , [ \"n_neigh\" , \"weight\" ] )\n",
    "\n",
    "print( tests_df )"
   ]
  },
  {
   "cell_type": "code",
   "execution_count": 6,
   "metadata": {},
   "outputs": [
    {
     "name": "stdout",
     "output_type": "stream",
     "text": [
      "   f1_score           precision              recall          \n",
      "       mean       std      mean       std      mean       std\n",
      "0  0.572814  0.057950  0.632705  0.061526  0.393141  0.052587\n",
      "1  0.729851  0.042825  0.774744  0.049614  0.595171  0.039268\n",
      "2  0.571272  0.060649  0.651804  0.070158  0.329675  0.043281\n",
      "3  0.741492  0.044511  0.798874  0.054798  0.569347  0.030835\n",
      "4  0.546984  0.054622  0.645282  0.065519  0.252092  0.032303\n",
      "5  0.765831  0.033066  0.839957  0.042185  0.543455  0.021633\n",
      "6  0.537112  0.073897  0.655079  0.091961  0.183212  0.026227\n",
      "7  0.775469  0.027931  0.868718  0.036795  0.495725  0.023021\n",
      "8  0.537741  0.064219  0.658788  0.079145  0.174600  0.021618\n",
      "9  0.775296  0.026311  0.872396  0.036663  0.483994  0.019890\n",
      "\n"
     ]
    }
   ],
   "source": [
    "from sklearn.neighbors import KNeighborsClassifier as knn\n",
    "seed_val = 47\n",
    "X , y , X_2d , columns = class_get_data()\n",
    "\n",
    "scores = [ \"f1_score\" , \"precision\" , \"recall\" ]\n",
    "metrics = [ \"mean\" , \"std\" ]\n",
    "data = { tup:list() for tup in product( scores , metrics ) }\n",
    "\n",
    "for simu_id , ( n_neigh , weight ) in enumerate( product( num_neigh , using ) ):\n",
    "\n",
    "    lst = []\n",
    "    fold_iter = get_prepared_data( X , y , seed = seed_val , smote = False )\n",
    "    for ( X_train , y_train ) , ( X_test , y_test ) in fold_iter:\n",
    "\n",
    "        k_class = knn( n_neighbors = n_neigh , weights = weight )\n",
    "        k_class.fit( X_train , y_train )\n",
    "\n",
    "        ts_cls = k_class.predict( X_test )\n",
    "        ts_f1 , prec , recall = bin_f1_score( ts_cls , y_test )\n",
    "\n",
    "        lst.append( ( ts_f1 , prec , recall ) )\n",
    "    \n",
    "    arr = np.array( lst )\n",
    "    means = arr.mean( axis = 0 )\n",
    "    data[ ( \"f1_score\", \"mean\" ) ].append( means[ 0 ] )\n",
    "    data[ ( \"precision\", \"mean\" ) ].append( means[ 1 ] )\n",
    "    data[ ( \"recall\", \"mean\" ) ].append( means[ 2 ] )\n",
    "\n",
    "    stds  = arr.std( axis = 0 )\n",
    "    data[ ( \"f1_score\", \"std\" ) ].append( stds[ 0 ] )\n",
    "    data[ ( \"precision\", \"std\" ) ].append( stds[ 1 ] )\n",
    "    data[ ( \"recall\", \"std\" ) ].append( stds[ 2 ] )\n",
    "\n",
    "print( pd.DataFrame( data ) )\n",
    "print()"
   ]
  }
 ],
 "metadata": {
  "interpreter": {
   "hash": "31f2aee4e71d21fbe5cf8b01ff0e069b9275f58929596ceb00d14d90e3e16cd6"
  },
  "kernelspec": {
   "display_name": "Python 3.10.6 64-bit",
   "language": "python",
   "name": "python3"
  },
  "language_info": {
   "codemirror_mode": {
    "name": "ipython",
    "version": 3
   },
   "file_extension": ".py",
   "mimetype": "text/x-python",
   "name": "python",
   "nbconvert_exporter": "python",
   "pygments_lexer": "ipython3",
   "version": "3.10.6"
  },
  "orig_nbformat": 4
 },
 "nbformat": 4,
 "nbformat_minor": 2
}
