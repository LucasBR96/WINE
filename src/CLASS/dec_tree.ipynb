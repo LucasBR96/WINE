{
 "cells": [
  {
   "cell_type": "code",
   "execution_count": 4,
   "metadata": {},
   "outputs": [
    {
     "name": "stdout",
     "output_type": "stream",
     "text": [
      "   max_depth     algo\n",
      "0          5     gini\n",
      "1          5  entropy\n",
      "2         10     gini\n",
      "3         10  entropy\n",
      "4         15     gini\n",
      "5         15  entropy\n",
      "6         20     gini\n",
      "7         20  entropy\n",
      "8         25     gini\n",
      "9         25  entropy\n",
      "10        30     gini\n",
      "11        30  entropy\n"
     ]
    }
   ],
   "source": [
    "import os\n",
    "os.chdir( \"/home/lucasfuzato/CODING/WINE\" )\n",
    "\n",
    "import pandas as pd\n",
    "import matplotlib.pyplot as plt\n",
    "import numpy as np\n",
    "from itertools import product\n",
    "\n",
    "from src.aux_fun import *\n",
    "\n",
    "tests_df = pd.DataFrame( columns = [ \"max_depth\" , \"algo\" ] )\n",
    "\n",
    "depths = [ 5 , 10 , 15 , 20 , 25 , 30 ]\n",
    "algos  = [ \"gini\" , \"entropy\" ]\n",
    "for i , ( max_depth , algo ) in enumerate( product( depths , algos ) ):\n",
    "    tests_df.loc[ i ] = pd.Series( [ max_depth , algo ] , [ \"max_depth\" , \"algo\" ] )\n",
    "print( tests_df ) "
   ]
  },
  {
   "cell_type": "code",
   "execution_count": 6,
   "metadata": {},
   "outputs": [
    {
     "name": "stdout",
     "output_type": "stream",
     "text": [
      "    f1_score           precision              recall          \n",
      "        mean       std      mean       std      mean       std\n",
      "0   0.506401  0.026361  0.395296  0.016015  0.710316  0.083692\n",
      "1   0.508614  0.029872  0.397445  0.018611  0.709486  0.068009\n",
      "2   0.561114  0.036747  0.455384  0.036901  0.733009  0.044153\n",
      "3   0.560240  0.022728  0.464787  0.027342  0.706355  0.020862\n",
      "4   0.578874  0.028693  0.477424  0.026319  0.736873  0.046136\n",
      "5   0.588103  0.029132  0.491752  0.022898  0.732985  0.051032\n",
      "6   0.575828  0.024754  0.482157  0.023570  0.715810  0.036852\n",
      "7   0.577454  0.029877  0.481342  0.029302  0.722841  0.039828\n",
      "8   0.574739  0.028326  0.482662  0.028677  0.711866  0.040748\n",
      "9   0.595699  0.031778  0.502328  0.026107  0.733003  0.050886\n",
      "10  0.594300  0.024497  0.502374  0.028209  0.729085  0.032032\n",
      "11  0.587219  0.032743  0.488159  0.025587  0.736928  0.046266\n",
      "\n"
     ]
    }
   ],
   "source": [
    "from sklearn.tree import DecisionTreeClassifier as dec_tree\n",
    "seed_val = 47\n",
    "\n",
    "X , y , X_2d , columns = class_get_data()\n",
    "\n",
    "scores = [ \"f1_score\" , \"precision\" , \"recall\" ]\n",
    "metrics = [ \"mean\" , \"std\" ]\n",
    "data = { tup:list() for tup in product( scores , metrics ) }\n",
    "\n",
    "for simu_id , ( max_depth , algo ) in enumerate( product( depths , algos ) ):\n",
    "\n",
    "    lst = []\n",
    "    fold_iter = get_prepared_data( X , y , seed = seed_val , smote = True )\n",
    "    for ( X_train , y_train ) , ( X_test , y_test ) in fold_iter:\n",
    "\n",
    "        tree = dec_tree( criterion = algo , max_depth = max_depth )\n",
    "        tree.fit( X_train , y_train )\n",
    "\n",
    "        ts_cls = tree.predict( X_test )\n",
    "        ts_f1 , prec , recall = bin_f1_score( ts_cls , y_test )\n",
    "\n",
    "        lst.append( ( ts_f1 , prec , recall ) )\n",
    "    \n",
    "    arr = np.array( lst )\n",
    "    means = arr.mean( axis = 0 )\n",
    "    data[ ( \"f1_score\", \"mean\" ) ].append( means[ 0 ] )\n",
    "    data[ ( \"precision\", \"mean\" ) ].append( means[ 1 ] )\n",
    "    data[ ( \"recall\", \"mean\" ) ].append( means[ 2 ] )\n",
    "\n",
    "    stds  = arr.std( axis = 0 )\n",
    "    data[ ( \"f1_score\", \"std\" ) ].append( stds[ 0 ] )\n",
    "    data[ ( \"precision\", \"std\" ) ].append( stds[ 1 ] )\n",
    "    data[ ( \"recall\", \"std\" ) ].append( stds[ 2 ] )\n",
    "\n",
    "print( pd.DataFrame( data ) )\n",
    "print()"
   ]
  }
 ],
 "metadata": {
  "interpreter": {
   "hash": "31f2aee4e71d21fbe5cf8b01ff0e069b9275f58929596ceb00d14d90e3e16cd6"
  },
  "kernelspec": {
   "display_name": "Python 3.10.6 64-bit",
   "language": "python",
   "name": "python3"
  },
  "language_info": {
   "codemirror_mode": {
    "name": "ipython",
    "version": 3
   },
   "file_extension": ".py",
   "mimetype": "text/x-python",
   "name": "python",
   "nbconvert_exporter": "python",
   "pygments_lexer": "ipython3",
   "version": "3.10.6"
  },
  "orig_nbformat": 4
 },
 "nbformat": 4,
 "nbformat_minor": 2
}
