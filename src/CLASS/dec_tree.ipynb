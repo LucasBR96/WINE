{
 "cells": [
  {
   "cell_type": "code",
   "execution_count": 4,
   "metadata": {},
   "outputs": [
    {
     "name": "stdout",
     "output_type": "stream",
     "text": [
      "   max_depth     algo\n",
      "0          5     gini\n",
      "1          5  entropy\n",
      "2         10     gini\n",
      "3         10  entropy\n",
      "4         15     gini\n",
      "5         15  entropy\n",
      "6         20     gini\n",
      "7         20  entropy\n",
      "8         25     gini\n",
      "9         25  entropy\n",
      "10        30     gini\n",
      "11        30  entropy\n"
     ]
    }
   ],
   "source": [
    "import os\n",
    "os.chdir( \"/home/lucasfuzato/CODING/WINE\" )\n",
    "\n",
    "import pandas as pd\n",
    "import matplotlib.pyplot as plt\n",
    "import numpy as np\n",
    "from itertools import product\n",
    "\n",
    "from src.aux_fun import *\n",
    "\n",
    "tests_df = pd.DataFrame( columns = [ \"max_depth\" , \"algo\" ] )\n",
    "\n",
    "depths = [ 5 , 10 , 15 , 20 , 25 , 30 ]\n",
    "algos  = [ \"gini\" , \"entropy\" ]\n",
    "for i , ( max_depth , algo ) in enumerate( product( depths , algos ) ):\n",
    "    tests_df.loc[ i ] = pd.Series( [ max_depth , algo ] , [ \"max_depth\" , \"algo\" ] )\n",
    "print( tests_df ) "
   ]
  },
  {
   "cell_type": "code",
   "execution_count": 5,
   "metadata": {},
   "outputs": [
    {
     "name": "stdout",
     "output_type": "stream",
     "text": [
      "    f1_score           precision              recall          \n",
      "        mean       std      mean       std      mean       std\n",
      "0   0.537653  0.042240  0.590296  0.044596  0.379724  0.064084\n",
      "1   0.556881  0.042983  0.631308  0.049114  0.333600  0.075862\n",
      "2   0.593155  0.048487  0.608410  0.050682  0.547392  0.051119\n",
      "3   0.561027  0.027651  0.578332  0.025964  0.509110  0.054124\n",
      "4   0.601937  0.042171  0.597911  0.036770  0.614013  0.066701\n",
      "5   0.606121  0.033289  0.603741  0.034471  0.613263  0.057745\n",
      "6   0.616271  0.033169  0.610506  0.032743  0.633569  0.054724\n",
      "7   0.633307  0.019727  0.628789  0.025269  0.646863  0.031372\n",
      "8   0.609153  0.026848  0.603614  0.022146  0.625769  0.054281\n",
      "9   0.617674  0.012848  0.613951  0.019896  0.628845  0.018988\n",
      "10  0.617986  0.022875  0.612005  0.016876  0.635931  0.052159\n",
      "11  0.623391  0.017139  0.618708  0.023070  0.637438  0.033119\n",
      "\n"
     ]
    }
   ],
   "source": [
    "from sklearn.tree import DecisionTreeClassifier as dec_tree\n",
    "seed_val = 47\n",
    "\n",
    "X , y , X_2d , columns = class_get_data()\n",
    "\n",
    "scores = [ \"f1_score\" , \"precision\" , \"recall\" ]\n",
    "metrics = [ \"mean\" , \"std\" ]\n",
    "data = { tup:list() for tup in product( scores , metrics ) }\n",
    "\n",
    "for simu_id , ( max_depth , algo ) in enumerate( product( depths , algos ) ):\n",
    "\n",
    "    lst = []\n",
    "    fold_iter = get_prepared_data( X , y , seed = seed_val , smote = False )\n",
    "    for ( X_train , y_train ) , ( X_test , y_test ) in fold_iter:\n",
    "\n",
    "        tree = dec_tree( criterion = algo , max_depth = max_depth )\n",
    "        tree.fit( X_train , y_train )\n",
    "\n",
    "        ts_cls = tree.predict( X_test )\n",
    "        ts_f1 , prec , recall = bin_f1_score( ts_cls , y_test )\n",
    "\n",
    "        lst.append( ( ts_f1 , prec , recall ) )\n",
    "    \n",
    "    arr = np.array( lst )\n",
    "    means = arr.mean( axis = 0 )\n",
    "    data[ ( \"f1_score\", \"mean\" ) ].append( means[ 0 ] )\n",
    "    data[ ( \"precision\", \"mean\" ) ].append( means[ 1 ] )\n",
    "    data[ ( \"recall\", \"mean\" ) ].append( means[ 2 ] )\n",
    "\n",
    "    stds  = arr.std( axis = 0 )\n",
    "    data[ ( \"f1_score\", \"std\" ) ].append( stds[ 0 ] )\n",
    "    data[ ( \"precision\", \"std\" ) ].append( stds[ 1 ] )\n",
    "    data[ ( \"recall\", \"std\" ) ].append( stds[ 2 ] )\n",
    "\n",
    "final_data = pd.DataFrame( data )\n",
    "print( final_data )\n",
    "\n",
    "final_data.to_csv( \"dec_tree.csv\" , sep = \";\" )"
   ]
  }
 ],
 "metadata": {
  "interpreter": {
   "hash": "31f2aee4e71d21fbe5cf8b01ff0e069b9275f58929596ceb00d14d90e3e16cd6"
  },
  "kernelspec": {
   "display_name": "Python 3.10.6 64-bit",
   "language": "python",
   "name": "python3"
  },
  "language_info": {
   "codemirror_mode": {
    "name": "ipython",
    "version": 3
   },
   "file_extension": ".py",
   "mimetype": "text/x-python",
   "name": "python",
   "nbconvert_exporter": "python",
   "pygments_lexer": "ipython3",
   "version": "3.10.6"
  },
  "orig_nbformat": 4
 },
 "nbformat": 4,
 "nbformat_minor": 2
}
