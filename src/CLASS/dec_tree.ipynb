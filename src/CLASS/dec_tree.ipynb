{
 "cells": [
  {
   "cell_type": "code",
   "execution_count": 4,
   "metadata": {},
   "outputs": [
    {
     "name": "stdout",
     "output_type": "stream",
     "text": [
      "   max_depth     algo\n",
      "0          5     gini\n",
      "1          5  entropy\n",
      "2         10     gini\n",
      "3         10  entropy\n",
      "4         15     gini\n",
      "5         15  entropy\n",
      "6         20     gini\n",
      "7         20  entropy\n",
      "8         25     gini\n",
      "9         25  entropy\n",
      "10        30     gini\n",
      "11        30  entropy\n"
     ]
    }
   ],
   "source": [
    "import os\n",
    "os.chdir( \"/home/lucasfuzato/CODING/WINE\" )\n",
    "\n",
    "import pandas as pd\n",
    "import matplotlib.pyplot as plt\n",
    "import numpy as np\n",
    "from itertools import product\n",
    "\n",
    "from src.aux_fun import *\n",
    "\n",
    "tests_df = pd.DataFrame( columns = [ \"max_depth\" , \"algo\" ] )\n",
    "\n",
    "depths = [ 5 , 10 , 15 , 20 , 25 , 30 ]\n",
    "algos  = [ \"gini\" , \"entropy\" ]\n",
    "for i , ( max_depth , algo ) in enumerate( product( depths , algos ) ):\n",
    "    tests_df.loc[ i ] = pd.Series( [ max_depth , algo ] , [ \"max_depth\" , \"algo\" ] )\n",
    "print( tests_df ) "
   ]
  },
  {
   "cell_type": "code",
   "execution_count": 9,
   "metadata": {},
   "outputs": [
    {
     "name": "stdout",
     "output_type": "stream",
     "text": [
      "   max_depth     algo  (f1_score, mean)  (f1_score, std)  (precision, mean)   \n",
      "0          5     gini          0.459630         0.052272           0.590296  \\\n",
      "1          5  entropy          0.431126         0.067064           0.631308   \n",
      "2         10     gini          0.569444         0.048865           0.603257   \n",
      "3         10  entropy          0.541901         0.038738           0.578045   \n",
      "4         15     gini          0.608739         0.046047           0.603592   \n",
      "5         15  entropy          0.606909         0.030951           0.603339   \n",
      "6         20     gini          0.619840         0.034009           0.607161   \n",
      "7         20  entropy          0.625795         0.016258           0.613366   \n",
      "8         25     gini          0.622981         0.039739           0.610247   \n",
      "9         25  entropy          0.618799         0.018380           0.610168   \n",
      "10        30     gini          0.618897         0.039488           0.605327   \n",
      "11        30  entropy          0.625954         0.015316           0.618333   \n",
      "\n",
      "    (precision, std)  (recall, mean)  (recall, std)  \n",
      "0           0.044596        0.379724       0.064084  \n",
      "1           0.049114        0.333600       0.075862  \n",
      "2           0.050935        0.540336       0.052249  \n",
      "3           0.027464        0.512242       0.055904  \n",
      "4           0.031696        0.615588       0.065158  \n",
      "5           0.035969        0.613244       0.047480  \n",
      "6           0.025975        0.635119       0.055498  \n",
      "7           0.019231        0.640631       0.036980  \n",
      "8           0.029374        0.638287       0.061685  \n",
      "9           0.016656        0.628863       0.034191  \n",
      "10          0.024807        0.635950       0.066785  \n",
      "11          0.023261        0.635095       0.026970  \n",
      "\n"
     ]
    }
   ],
   "source": [
    "from sklearn.tree import DecisionTreeClassifier as dec_tree\n",
    "seed_val = 47\n",
    "\n",
    "X , y , X_2d , columns = class_get_data()\n",
    "\n",
    "scores = [ \"f1_score\" , \"precision\" , \"recall\" ]\n",
    "metrics = [ \"mean\" , \"std\" ]\n",
    "data = { tup:list() for tup in product( scores , metrics ) }\n",
    "\n",
    "for simu_id , ( max_depth , algo ) in enumerate( product( depths , algos ) ):\n",
    "\n",
    "    lst = []\n",
    "    fold_iter = get_prepared_data( X , y , seed = seed_val , smote = False )\n",
    "    for ( X_train , y_train ) , ( X_test , y_test ) in fold_iter:\n",
    "\n",
    "        tree = dec_tree( criterion = algo , max_depth = max_depth )\n",
    "        tree.fit( X_train , y_train )\n",
    "\n",
    "        ts_cls = tree.predict( X_test )\n",
    "        ts_f1 , prec , recall = bin_f1_score( ts_cls , y_test )\n",
    "\n",
    "        lst.append( ( ts_f1 , prec , recall ) )\n",
    "    \n",
    "    arr = np.array( lst )\n",
    "    means = arr.mean( axis = 0 )\n",
    "    data[ ( \"f1_score\", \"mean\" ) ].append( means[ 0 ] )\n",
    "    data[ ( \"precision\", \"mean\" ) ].append( means[ 1 ] )\n",
    "    data[ ( \"recall\", \"mean\" ) ].append( means[ 2 ] )\n",
    "\n",
    "    stds  = arr.std( axis = 0 )\n",
    "    data[ ( \"f1_score\", \"std\" ) ].append( stds[ 0 ] )\n",
    "    data[ ( \"precision\", \"std\" ) ].append( stds[ 1 ] )\n",
    "    data[ ( \"recall\", \"std\" ) ].append( stds[ 2 ] )\n",
    "\n",
    "final_data = pd.DataFrame( data )\n",
    "print( final_data )\n",
    "print()"
   ]
  }
 ],
 "metadata": {
  "interpreter": {
   "hash": "31f2aee4e71d21fbe5cf8b01ff0e069b9275f58929596ceb00d14d90e3e16cd6"
  },
  "kernelspec": {
   "display_name": "Python 3.10.6 64-bit",
   "language": "python",
   "name": "python3"
  },
  "language_info": {
   "codemirror_mode": {
    "name": "ipython",
    "version": 3
   },
   "file_extension": ".py",
   "mimetype": "text/x-python",
   "name": "python",
   "nbconvert_exporter": "python",
   "pygments_lexer": "ipython3",
   "version": "3.10.6"
  },
  "orig_nbformat": 4
 },
 "nbformat": 4,
 "nbformat_minor": 2
}
