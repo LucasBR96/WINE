{
 "cells": [
  {
   "cell_type": "code",
   "execution_count": 4,
   "metadata": {},
   "outputs": [
    {
     "name": "stdout",
     "output_type": "stream",
     "text": [
      "  tree_num num_features\n",
      "0        5         log2\n",
      "1        5         sqrt\n",
      "2       10         log2\n",
      "3       10         sqrt\n",
      "4       50         log2\n",
      "5       50         sqrt\n",
      "6      100         log2\n",
      "7      100         sqrt\n"
     ]
    }
   ],
   "source": [
    "import os\n",
    "os.chdir( \"/home/lucasfuzato/CODING/WINE\" )\n",
    "\n",
    "import pandas as pd\n",
    "import matplotlib.pyplot as plt\n",
    "import numpy as np\n",
    "from itertools import product\n",
    "\n",
    "from src.aux_fun import *\n",
    "\n",
    "tests_df = pd.DataFrame( columns = [ \"tree_num\" , \"num_features\" ] )\n",
    "\n",
    "tree_size = [ 5 , 10 , 50 , 100 ]\n",
    "feature_select = [ \"log2\" , \"sqrt\"]\n",
    "for i , ( tree_num , num_features ) in enumerate( product( tree_size , feature_select ) ):\n",
    "    tests_df.loc[ i ] = pd.Series( [ tree_num , num_features ] , [ \"tree_num\" , \"num_features\" ] )\n",
    "print( tests_df ) "
   ]
  },
  {
   "cell_type": "code",
   "execution_count": 6,
   "metadata": {},
   "outputs": [
    {
     "name": "stdout",
     "output_type": "stream",
     "text": [
      "   f1_score           precision              recall          \n",
      "       mean       std      mean       std      mean       std\n",
      "0  0.652205  0.033378  0.709810  0.041409  0.605290  0.044217\n",
      "1  0.636421  0.031501  0.707430  0.036697  0.580297  0.041695\n",
      "2  0.648361  0.023065  0.783072  0.034006  0.554454  0.031111\n",
      "3  0.643606  0.035503  0.773820  0.034032  0.552947  0.047109\n",
      "4  0.682448  0.025157  0.813605  0.035683  0.588903  0.031987\n",
      "5  0.682671  0.035616  0.816231  0.035150  0.587383  0.039524\n",
      "6  0.695868  0.022892  0.827304  0.036057  0.601415  0.026632\n",
      "7  0.695654  0.026537  0.829482  0.038960  0.599883  0.028785\n",
      "\n"
     ]
    }
   ],
   "source": [
    "from sklearn.ensemble import RandomForestClassifier as rd_frst\n",
    "seed_val = 47\n",
    "\n",
    "depth , algo = 20 , \"gini\"\n",
    "\n",
    "X , y , X_2d , columns = class_get_data()\n",
    "\n",
    "scores = [ \"f1_score\" , \"precision\" , \"recall\" ]\n",
    "metrics = [ \"mean\" , \"std\" ]\n",
    "data = { tup:list() for tup in product( scores , metrics ) }\n",
    "\n",
    "for simu_id , ( tree_num , num_features ) in enumerate( product( tree_size , feature_select ) ):\n",
    "\n",
    "    lst = []\n",
    "    fold_iter = get_prepared_data( X , y , seed = seed_val , smote = False )\n",
    "    for ( X_train , y_train ) , ( X_test , y_test ) in fold_iter:\n",
    "\n",
    "        forest = rd_frst( n_estimators = tree_num , max_features = num_features, criterion = algo , max_depth = depth ,  )\n",
    "        forest.fit( X_train , y_train )\n",
    "\n",
    "        ts_cls = forest.predict( X_test )\n",
    "        ts_f1 , prec , recall = bin_f1_score( ts_cls , y_test )\n",
    "\n",
    "        lst.append( ( ts_f1 , prec , recall ) )\n",
    "    \n",
    "    arr = np.array( lst )\n",
    "    means = arr.mean( axis = 0 )\n",
    "    data[ ( \"f1_score\", \"mean\" ) ].append( means[ 0 ] )\n",
    "    data[ ( \"precision\", \"mean\" ) ].append( means[ 1 ] )\n",
    "    data[ ( \"recall\", \"mean\" ) ].append( means[ 2 ] )\n",
    "\n",
    "    stds  = arr.std( axis = 0 )\n",
    "    data[ ( \"f1_score\", \"std\" ) ].append( stds[ 0 ] )\n",
    "    data[ ( \"precision\", \"std\" ) ].append( stds[ 1 ] )\n",
    "    data[ ( \"recall\", \"std\" ) ].append( stds[ 2 ] )\n",
    "\n",
    "print( pd.DataFrame( data ) )\n",
    "print()"
   ]
  }
 ],
 "metadata": {
  "interpreter": {
   "hash": "31f2aee4e71d21fbe5cf8b01ff0e069b9275f58929596ceb00d14d90e3e16cd6"
  },
  "kernelspec": {
   "display_name": "Python 3.10.6 64-bit",
   "language": "python",
   "name": "python3"
  },
  "language_info": {
   "codemirror_mode": {
    "name": "ipython",
    "version": 3
   },
   "file_extension": ".py",
   "mimetype": "text/x-python",
   "name": "python",
   "nbconvert_exporter": "python",
   "pygments_lexer": "ipython3",
   "version": "3.10.6"
  },
  "orig_nbformat": 4
 },
 "nbformat": 4,
 "nbformat_minor": 2
}
