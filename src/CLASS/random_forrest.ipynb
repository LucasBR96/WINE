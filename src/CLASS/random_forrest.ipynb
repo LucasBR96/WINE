{
 "cells": [
  {
   "cell_type": "code",
   "execution_count": 7,
   "metadata": {},
   "outputs": [
    {
     "name": "stdout",
     "output_type": "stream",
     "text": [
      "  tree_num num_features\n",
      "0        5         log2\n",
      "1        5         sqrt\n",
      "2       10         log2\n",
      "3       10         sqrt\n",
      "4       50         log2\n",
      "5       50         sqrt\n",
      "6      100         log2\n",
      "7      100         sqrt\n"
     ]
    }
   ],
   "source": [
    "import os\n",
    "os.chdir( \"/home/lucasfuzato/CODING/WINE\" )\n",
    "\n",
    "import pandas as pd\n",
    "import matplotlib.pyplot as plt\n",
    "import numpy as np\n",
    "from itertools import product\n",
    "\n",
    "from src.aux_fun import *\n",
    "\n",
    "tests_df = pd.DataFrame( columns = [ \"tree_num\" , \"num_features\" ] )\n",
    "\n",
    "tree_size = [ 5 , 10 , 50 , 100 ]\n",
    "feature_select = [ \"log2\" , \"sqrt\"]\n",
    "for i , ( tree_num , num_features ) in enumerate( product( tree_size , feature_select ) ):\n",
    "    tests_df.loc[ i ] = pd.Series( [ tree_num , num_features ] , [ \"tree_num\" , \"num_features\" ] )\n",
    "print( tests_df ) "
   ]
  },
  {
   "cell_type": "code",
   "execution_count": 9,
   "metadata": {},
   "outputs": [
    {
     "name": "stdout",
     "output_type": "stream",
     "text": [
      "   f1_score           precision              recall          \n",
      "       mean       std      mean       std      mean       std\n",
      "0  0.645888  0.043365  0.720565  0.034465  0.586639  0.055495\n",
      "1  0.634203  0.030771  0.703802  0.036907  0.578771  0.040624\n",
      "2  0.667520  0.036204  0.817392  0.035436  0.565422  0.043618\n",
      "3  0.655442  0.026008  0.786675  0.037588  0.563866  0.040460\n",
      "4  0.691491  0.022005  0.817582  0.030160  0.599883  0.027539\n",
      "5  0.686615  0.033498  0.820561  0.047182  0.591271  0.034064\n",
      "6  0.695682  0.024194  0.832222  0.044329  0.599090  0.029658\n",
      "7  0.693958  0.021058  0.825133  0.033272  0.599865  0.028240\n",
      "\n"
     ]
    }
   ],
   "source": [
    "from sklearn.ensemble import RandomForestClassifier as rd_frst\n",
    "seed_val = 47\n",
    "\n",
    "depth , algo = 25 , \"entropy\"\n",
    "\n",
    "X , y , X_2d , columns = class_get_data()\n",
    "\n",
    "scores = [ \"f1_score\" , \"precision\" , \"recall\" ]\n",
    "metrics = [ \"mean\" , \"std\" ]\n",
    "data = { tup:list() for tup in product( scores , metrics ) }\n",
    "\n",
    "for simu_id , ( tree_num , num_features ) in enumerate( product( tree_size , feature_select ) ):\n",
    "\n",
    "    lst = []\n",
    "    fold_iter = get_prepared_data( X , y , seed = seed_val , smote = False )\n",
    "    for ( X_train , y_train ) , ( X_test , y_test ) in fold_iter:\n",
    "\n",
    "        forest = rd_frst( n_estimators = tree_num , max_features = num_features, criterion = algo , max_depth = depth ,  )\n",
    "        forest.fit( X_train , y_train )\n",
    "\n",
    "        ts_cls = forest.predict( X_test )\n",
    "        ts_f1 , prec , recall = bin_f1_score( ts_cls , y_test )\n",
    "\n",
    "        lst.append( ( ts_f1 , prec , recall ) )\n",
    "    \n",
    "    arr = np.array( lst )\n",
    "    means = arr.mean( axis = 0 )\n",
    "    data[ ( \"f1_score\", \"mean\" ) ].append( means[ 0 ] )\n",
    "    data[ ( \"precision\", \"mean\" ) ].append( means[ 1 ] )\n",
    "    data[ ( \"recall\", \"mean\" ) ].append( means[ 2 ] )\n",
    "\n",
    "    stds  = arr.std( axis = 0 )\n",
    "    data[ ( \"f1_score\", \"std\" ) ].append( stds[ 0 ] )\n",
    "    data[ ( \"precision\", \"std\" ) ].append( stds[ 1 ] )\n",
    "    data[ ( \"recall\", \"std\" ) ].append( stds[ 2 ] )\n",
    "\n",
    "print( pd.DataFrame( data ) )\n",
    "print()"
   ]
  }
 ],
 "metadata": {
  "interpreter": {
   "hash": "31f2aee4e71d21fbe5cf8b01ff0e069b9275f58929596ceb00d14d90e3e16cd6"
  },
  "kernelspec": {
   "display_name": "Python 3.10.6 64-bit",
   "language": "python",
   "name": "python3"
  },
  "language_info": {
   "codemirror_mode": {
    "name": "ipython",
    "version": 3
   },
   "file_extension": ".py",
   "mimetype": "text/x-python",
   "name": "python",
   "nbconvert_exporter": "python",
   "pygments_lexer": "ipython3",
   "version": "3.10.6"
  },
  "orig_nbformat": 4
 },
 "nbformat": 4,
 "nbformat_minor": 2
}
