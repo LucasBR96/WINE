{
 "cells": [
  {
   "cell_type": "code",
   "execution_count": 7,
   "metadata": {},
   "outputs": [
    {
     "name": "stdout",
     "output_type": "stream",
     "text": [
      "   tree_num  num_features\n",
      "0        10             3\n",
      "1        10             6\n",
      "2        10             9\n",
      "3        50             3\n",
      "4        50             6\n",
      "5        50             9\n",
      "6       100             3\n",
      "7       100             6\n",
      "8       100             9\n"
     ]
    }
   ],
   "source": [
    "import os\n",
    "os.chdir( \"/home/lucasfuzato/CODING/WINE\" )\n",
    "\n",
    "import pandas as pd\n",
    "import matplotlib.pyplot as plt\n",
    "import numpy as np\n",
    "from itertools import product\n",
    "\n",
    "from src.aux_fun import *\n",
    "\n",
    "tests_df = pd.DataFrame( columns = [ \"tree_num\" , \"num_features\" ] )\n",
    "\n",
    "# tree_size = [ 5 , 10 , 50 , 100 ]\n",
    "# feature_select = [ \"log2\" , \"sqrt\"]\n",
    "\n",
    "tree_size = [ 10 , 50 , 100 ]\n",
    "feature_select = [ 3 , 6 , 9 ]\n",
    "for i , ( tree_num , num_features ) in enumerate( product( tree_size , feature_select ) ):\n",
    "    tests_df.loc[ i ] = pd.Series( [ tree_num , num_features ] , [ \"tree_num\" , \"num_features\" ] )\n",
    "print( tests_df ) "
   ]
  },
  {
   "cell_type": "code",
   "execution_count": 8,
   "metadata": {},
   "outputs": [
    {
     "name": "stdout",
     "output_type": "stream",
     "text": [
      "   f1_score           precision              recall          \n",
      "       mean       std      mean       std      mean       std\n",
      "0  0.719669  0.025619  0.798672  0.028112  0.556810  0.036917\n",
      "1  0.720574  0.028614  0.795079  0.037355  0.563829  0.029106\n",
      "2  0.708816  0.026539  0.785087  0.032844  0.549754  0.026941\n",
      "3  0.749962  0.028034  0.823457  0.038723  0.592797  0.023931\n",
      "4  0.740041  0.026146  0.804864  0.034982  0.598314  0.036120\n",
      "5  0.744154  0.021392  0.806383  0.033658  0.606145  0.025893\n",
      "6  0.751872  0.033972  0.823977  0.044238  0.597515  0.035056\n",
      "7  0.756622  0.034655  0.826527  0.043960  0.605376  0.036339\n",
      "8  0.747991  0.021838  0.809400  0.029421  0.610827  0.029048\n",
      "\n"
     ]
    }
   ],
   "source": [
    "from sklearn.ensemble import RandomForestClassifier as rd_frst\n",
    "seed_val = 47\n",
    "\n",
    "depth , algo = 30 , \"entropy\"\n",
    "\n",
    "X , y , X_2d , columns = class_get_data()\n",
    "\n",
    "scores = [ \"f1_score\" , \"precision\" , \"recall\" ]\n",
    "metrics = [ \"mean\" , \"std\" ]\n",
    "data = { tup:list() for tup in product( scores , metrics ) }\n",
    "\n",
    "for simu_id , ( tree_num , num_features ) in enumerate( product( tree_size , feature_select ) ):\n",
    "\n",
    "    lst = []\n",
    "    fold_iter = get_prepared_data( X , y , seed = seed_val , smote = False )\n",
    "    for ( X_train , y_train ) , ( X_test , y_test ) in fold_iter:\n",
    "\n",
    "        forest = rd_frst( n_estimators = tree_num , max_features = num_features, criterion = algo , max_depth = depth  )\n",
    "        forest.fit( X_train , y_train )\n",
    "\n",
    "        ts_cls = forest.predict( X_test )\n",
    "        ts_f1 , prec , recall = bin_f1_score( ts_cls , y_test )\n",
    "\n",
    "        lst.append( ( ts_f1 , prec , recall ) )\n",
    "    \n",
    "    arr = np.array( lst )\n",
    "    means = arr.mean( axis = 0 )\n",
    "    data[ ( \"f1_score\", \"mean\" ) ].append( means[ 0 ] )\n",
    "    data[ ( \"precision\", \"mean\" ) ].append( means[ 1 ] )\n",
    "    data[ ( \"recall\", \"mean\" ) ].append( means[ 2 ] )\n",
    "\n",
    "    stds  = arr.std( axis = 0 )\n",
    "    data[ ( \"f1_score\", \"std\" ) ].append( stds[ 0 ] )\n",
    "    data[ ( \"precision\", \"std\" ) ].append( stds[ 1 ] )\n",
    "    data[ ( \"recall\", \"std\" ) ].append( stds[ 2 ] )\n",
    "\n",
    "final_data = pd.DataFrame( data )\n",
    "print( final_data )\n",
    "\n",
    "final_data.to_csv( \"rand_forest.csv\" , sep = \";\" )"
   ]
  }
 ],
 "metadata": {
  "interpreter": {
   "hash": "31f2aee4e71d21fbe5cf8b01ff0e069b9275f58929596ceb00d14d90e3e16cd6"
  },
  "kernelspec": {
   "display_name": "Python 3.10.6 64-bit",
   "language": "python",
   "name": "python3"
  },
  "language_info": {
   "codemirror_mode": {
    "name": "ipython",
    "version": 3
   },
   "file_extension": ".py",
   "mimetype": "text/x-python",
   "name": "python",
   "nbconvert_exporter": "python",
   "pygments_lexer": "ipython3",
   "version": "3.10.6"
  },
  "orig_nbformat": 4
 },
 "nbformat": 4,
 "nbformat_minor": 2
}
