{
 "cells": [
  {
   "cell_type": "code",
   "execution_count": 20,
   "metadata": {},
   "outputs": [
    {
     "name": "stdout",
     "output_type": "stream",
     "text": [
      "  is_red fixed acidity volatile acidity citric acid residual sugar chlorides   \n",
      "0    0.0           7.0             0.27        0.36           20.7     0.045  \\\n",
      "1    0.0           6.3              0.3        0.34            1.6     0.049   \n",
      "2    0.0           8.1             0.28         0.4            6.9      0.05   \n",
      "3    0.0           7.2             0.23        0.32            8.5     0.058   \n",
      "4    1.0           7.4              0.7         0.0            1.9     0.076   \n",
      "\n",
      "  free sulfur dioxide total sulfur dioxide density    pH sulphates alcohol   \n",
      "0                45.0                170.0   1.001   3.0      0.45     8.8  \\\n",
      "1                14.0                132.0   0.994   3.3      0.49     9.5   \n",
      "2                30.0                 97.0  0.9951  3.26      0.44    10.1   \n",
      "3                47.0                186.0  0.9956  3.19       0.4     9.9   \n",
      "4                11.0                 34.0  0.9978  3.51      0.56     9.4   \n",
      "\n",
      "  is_good  \n",
      "0     0.0  \n",
      "1     0.0  \n",
      "2     0.0  \n",
      "3     0.0  \n",
      "4     0.0  \n"
     ]
    }
   ],
   "source": [
    "import os\n",
    "os.chdir( \"/home/lucasfuzato/CODING/WINE\" )\n",
    "\n",
    "import pandas as pd\n",
    "import matplotlib.pyplot as plt\n",
    "import numpy as np\n",
    "\n",
    "#----------------------------------\n",
    "# original datasets\n",
    "red_wine = pd.read_csv( \"DATA/winequality-red.csv\" , delimiter = \";\" )\n",
    "white_wine = pd.read_csv( \"DATA/winequality-white.csv\" , delimiter = \";\" )\n",
    "attributes = red_wine.columns.to_list() \n",
    "\n",
    "#-----------------------------------\n",
    "# new data set\n",
    "new_attr = [ \"is_red\" ] + attributes[ : -1 ] + [ \"is_good\" ]\n",
    "\n",
    "unified_data = pd.DataFrame(\n",
    "    index = range( len( white_wine ) + len( red_wine) ) \n",
    "    ,columns = new_attr \n",
    ")\n",
    "\n",
    "# iterators from the old data sets\n",
    "red_iter = red_wine.iterrows()\n",
    "white_iter = white_wine.iterrows()\n",
    "\n",
    "# new target variable\n",
    "is_good = lambda x : int( x >= 7 )\n",
    "\n",
    "# 0 -> white wine\n",
    "# 1 -> red wine\n",
    "origins = np.array( [ 0 ]*len( white_wine ) + [ 1 ]*len( red_wine ) )\n",
    "np.random.shuffle( origins )\n",
    "\n",
    "for i , is_red in enumerate( origins ):\n",
    "\n",
    "    # new entry of the dataset\n",
    "    new_row = pd.Series( index = new_attr )\n",
    "    new_row[ \"is_red\" ] = is_red\n",
    "\n",
    "    # from where to copy\n",
    "    data_set = red_iter if bool( is_red ) else white_iter\n",
    "    _ , row = next( data_set )\n",
    "\n",
    "    # copying the data\n",
    "    new_row[ attributes[ : -1 ] ] = row[ attributes[ : -1 ] ]\n",
    "    new_row[ \"is_good\" ] = is_good( row[ \"quality\" ]) # good if quality >= 7\n",
    "\n",
    "    # assigning to new dataset\n",
    "    unified_data.loc[ i ] = new_row\n",
    "\n",
    "print( unified_data.head() )\n",
    "unified_data.to_csv( \"DATA/winequality.csv\" , index = False )"
   ]
  }
 ],
 "metadata": {
  "interpreter": {
   "hash": "31f2aee4e71d21fbe5cf8b01ff0e069b9275f58929596ceb00d14d90e3e16cd6"
  },
  "kernelspec": {
   "display_name": "Python 3.10.6 64-bit",
   "language": "python",
   "name": "python3"
  },
  "language_info": {
   "codemirror_mode": {
    "name": "ipython",
    "version": 3
   },
   "file_extension": ".py",
   "mimetype": "text/x-python",
   "name": "python",
   "nbconvert_exporter": "python",
   "pygments_lexer": "ipython3",
   "version": "3.10.6"
  },
  "orig_nbformat": 4
 },
 "nbformat": 4,
 "nbformat_minor": 2
}
