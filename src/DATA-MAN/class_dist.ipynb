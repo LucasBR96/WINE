{
 "cells": [
  {
   "cell_type": "code",
   "execution_count": 1,
   "metadata": {},
   "outputs": [
    {
     "data": {
      "image/png": "[encoded data removed]",
      "text/plain": [
       "<Figure size 640x480 with 2 Axes>"
      ]
     },
     "metadata": {},
     "output_type": "display_data"
    }
   ],
   "source": [
    "import pandas as pd\n",
    "import matplotlib.pyplot as plt\n",
    "import os\n",
    "import numpy as np\n",
    "\n",
    "os.chdir( \"/home/lucasfuzato/CODING/WINE\" )\n",
    "\n",
    "# wine datasets\n",
    "red_wine = pd.read_csv( \"DATA/winequality-red.csv\" , delimiter = \";\" )\n",
    "white_wine = pd.read_csv( \"DATA/winequality-white.csv\" , delimiter = \";\" )\n",
    "\n",
    "# quality distribution\n",
    "fig , ( ax_1 , ax_2 ) = plt.subplots( ncols = 2 , sharey = True )\n",
    "colors = [ \"red\" , \"green\" ]\n",
    "axs    = [ ax_1 , ax_2 ]\n",
    "data   = [ red_wine[ \"quality\" ] , white_wine[ \"quality\" ] ]\n",
    "\n",
    "for color , ax , ser in zip( colors , axs , data ):\n",
    "    \n",
    "    # arr = np.zeros( ( len( ser ) , 11 ) )\n",
    "    # # arr[ : , ser.to_numpy() ] = 1\n",
    "    heights = np.array( [ sum( map( int , ( ser == x ) ) ) for x in range( 11 ) ] )\n",
    "    heights = heights/heights.sum()\n",
    "    \n",
    "    ax.bar( range( 11 ) , heights , color = color )\n",
    "    ax.set_xticks( range( 11 ) )\n",
    "plt.show()\n"
   ]
  },
  {
   "cell_type": "code",
   "execution_count": 4,
   "metadata": {},
   "outputs": [
    {
     "name": "stdout",
     "output_type": "stream",
     "text": [
      "P( good ) = 19.655225%\n",
      "\n",
      "P( good | red ) = 13.570982%\n",
      "Lift( red => good ) = 0.690452\n",
      "\n",
      "P( good | white ) = 21.641486%\n",
      "Lift( white => good ) = 1.101055\n"
     ]
    }
   ],
   "source": [
    "# a good wine has a score of at least 7\n",
    "is_good = lambda x : int( x >= 7 )\n",
    "\n",
    "# red metrics\n",
    "red_qual = red_wine[ \"quality\" ].to_numpy()\n",
    "red_total = len( red_qual )\n",
    "red_good = sum( map( is_good , red_qual ) )\n",
    "\n",
    "# white metrics\n",
    "white_qual = white_wine[ \"quality\" ].to_numpy()\n",
    "white_total = len( white_qual )\n",
    "white_good = sum( map( is_good , white_qual ) )\n",
    "\n",
    "# probabilities\n",
    "good_prob = ( white_good + red_good )/( red_total + white_total )\n",
    "redg_prob = red_good/red_total\n",
    "whiteg_prob = white_good/white_total\n",
    "\n",
    "# logs ( probabilities and lift )\n",
    "foo = lambda x : f\"{100*x:3f}%\"\n",
    "print( f\"P( good ) = {foo( good_prob)}\" )\n",
    "print( f\"\\nP( good | red ) = {foo( redg_prob)}\")\n",
    "print( f\"Lift( red => good ) = { ( redg_prob/good_prob ):2f}\")\n",
    "print( f\"\\nP( good | white ) = { foo( whiteg_prob ) }\")\n",
    "print( f\"Lift( white => good ) = { ( whiteg_prob/good_prob ):2f}\")"
   ]
  }
 ],
 "metadata": {
  "interpreter": {
   "hash": "31f2aee4e71d21fbe5cf8b01ff0e069b9275f58929596ceb00d14d90e3e16cd6"
  },
  "kernelspec": {
   "display_name": "Python 3.10.6 64-bit",
   "language": "python",
   "name": "python3"
  },
  "language_info": {
   "codemirror_mode": {
    "name": "ipython",
    "version": 3
   },
   "file_extension": ".py",
   "mimetype": "text/x-python",
   "name": "python",
   "nbconvert_exporter": "python",
   "pygments_lexer": "ipython3",
   "version": "3.10.6"
  },
  "orig_nbformat": 4
 },
 "nbformat": 4,
 "nbformat_minor": 2
}
